{
 "cells": [
  {
   "cell_type": "markdown",
   "id": "6804046d",
   "metadata": {},
   "source": [
    "## Recommender System\n",
    "A **recommender system** is a type of machine learning model designed to suggest items, products, or content to users based on various criteria. In this project, we implement a content-based recommender system that recommends movies by analyzing their features such as overviews, genres, directors, actors, and other relevant attributes."
   ]
  },
  {
   "cell_type": "code",
   "execution_count": 1,
   "id": "580cccf7",
   "metadata": {},
   "outputs": [],
   "source": [
    "# Importing required libraries\n",
    "\n",
    "import numpy as np\n",
    "import pandas as pd\n",
    "import ast\n",
    "from nltk.stem.porter import PorterStemmer\n",
    "from sklearn.metrics.pairwise import cosine_similarity\n",
    "from sklearn.feature_extraction.text import CountVectorizer\n",
    "from sklearn.feature_extraction.text import TfidfVectorizer\n",
    "import pickle"
   ]
  },
  {
   "cell_type": "code",
   "execution_count": 2,
   "id": "271a40ff",
   "metadata": {},
   "outputs": [],
   "source": [
    "# import warnings filter\n",
    "from warnings import simplefilter\n",
    "# ignore all future warnings\n",
    "simplefilter(action='ignore', category=FutureWarning)"
   ]
  },
  {
   "cell_type": "code",
   "execution_count": 3,
   "id": "0c3bd79f",
   "metadata": {},
   "outputs": [],
   "source": [
    "# Reading the CSV file\n",
    "df = pd.read_csv('../data/complete_movie_dataset.csv')"
   ]
  },
  {
   "cell_type": "code",
   "execution_count": 4,
   "id": "cda5265e",
   "metadata": {},
   "outputs": [
    {
     "data": {
      "text/html": [
       "<div>\n",
       "<style scoped>\n",
       "    .dataframe tbody tr th:only-of-type {\n",
       "        vertical-align: middle;\n",
       "    }\n",
       "\n",
       "    .dataframe tbody tr th {\n",
       "        vertical-align: top;\n",
       "    }\n",
       "\n",
       "    .dataframe thead th {\n",
       "        text-align: right;\n",
       "    }\n",
       "</style>\n",
       "<table border=\"1\" class=\"dataframe\">\n",
       "  <thead>\n",
       "    <tr style=\"text-align: right;\">\n",
       "      <th></th>\n",
       "      <th>title</th>\n",
       "      <th>movie_ID</th>\n",
       "      <th>overview</th>\n",
       "      <th>original_language</th>\n",
       "      <th>release_date</th>\n",
       "      <th>popularity</th>\n",
       "      <th>vote_count</th>\n",
       "      <th>vote_average</th>\n",
       "      <th>budget</th>\n",
       "      <th>genres</th>\n",
       "      <th>homepage</th>\n",
       "      <th>production_companies</th>\n",
       "      <th>production_countries</th>\n",
       "      <th>revenue</th>\n",
       "      <th>runtime</th>\n",
       "      <th>director</th>\n",
       "      <th>top_actors</th>\n",
       "      <th>keywords</th>\n",
       "    </tr>\n",
       "  </thead>\n",
       "  <tbody>\n",
       "    <tr>\n",
       "      <th>0</th>\n",
       "      <td>Venom: The Last Dance</td>\n",
       "      <td>912649</td>\n",
       "      <td>Eddie and Venom are on the run. Hunted by both...</td>\n",
       "      <td>en</td>\n",
       "      <td>2024-10-22</td>\n",
       "      <td>3047.508</td>\n",
       "      <td>789</td>\n",
       "      <td>6.489</td>\n",
       "      <td>120000000</td>\n",
       "      <td>['Science Fiction', 'Action', 'Adventure']</td>\n",
       "      <td>https://venom.movie</td>\n",
       "      <td>['Columbia Pictures', 'Pascal Pictures', 'Matt...</td>\n",
       "      <td>['United States of America']</td>\n",
       "      <td>394000000</td>\n",
       "      <td>109</td>\n",
       "      <td>Kelly Marcel</td>\n",
       "      <td>Tom Hardy, Chiwetel Ejiofor, Juno Temple</td>\n",
       "      <td>hero, superhero, anti hero, villain, alien lif...</td>\n",
       "    </tr>\n",
       "    <tr>\n",
       "      <th>1</th>\n",
       "      <td>Terrifier 3</td>\n",
       "      <td>1034541</td>\n",
       "      <td>Five years after surviving Art the Clown's Hal...</td>\n",
       "      <td>en</td>\n",
       "      <td>2024-10-09</td>\n",
       "      <td>1929.351</td>\n",
       "      <td>1031</td>\n",
       "      <td>6.909</td>\n",
       "      <td>2000000</td>\n",
       "      <td>['Horror', 'Thriller', 'Mystery']</td>\n",
       "      <td>https://terrifier3.com/</td>\n",
       "      <td>['Cineverse', 'Bloody Disgusting', 'Dark Age C...</td>\n",
       "      <td>['United States of America']</td>\n",
       "      <td>78573405</td>\n",
       "      <td>125</td>\n",
       "      <td>Damien Leone</td>\n",
       "      <td>Lauren LaVera, David Howard Thornton, Samantha...</td>\n",
       "      <td>monster, post-traumatic stress disorder (ptsd)...</td>\n",
       "    </tr>\n",
       "    <tr>\n",
       "      <th>2</th>\n",
       "      <td>The Wild Robot</td>\n",
       "      <td>1184918</td>\n",
       "      <td>After a shipwreck, an intelligent robot called...</td>\n",
       "      <td>en</td>\n",
       "      <td>2024-09-12</td>\n",
       "      <td>1808.363</td>\n",
       "      <td>2938</td>\n",
       "      <td>8.471</td>\n",
       "      <td>78000000</td>\n",
       "      <td>['Animation', 'Science Fiction', 'Family']</td>\n",
       "      <td>https://www.thewildrobotmovie.com</td>\n",
       "      <td>['DreamWorks Animation']</td>\n",
       "      <td>['United States of America']</td>\n",
       "      <td>308583746</td>\n",
       "      <td>102</td>\n",
       "      <td>Chris Sanders</td>\n",
       "      <td>Lupita Nyong'o, Pedro Pascal, Kit Connor</td>\n",
       "      <td>robot, based on children's book, aftercreditss...</td>\n",
       "    </tr>\n",
       "    <tr>\n",
       "      <th>3</th>\n",
       "      <td>Apocalypse Z: The Beginning of the End</td>\n",
       "      <td>1118031</td>\n",
       "      <td>When a kind of rabies that transforms people i...</td>\n",
       "      <td>es</td>\n",
       "      <td>2024-10-04</td>\n",
       "      <td>1638.618</td>\n",
       "      <td>498</td>\n",
       "      <td>6.784</td>\n",
       "      <td>0</td>\n",
       "      <td>['Drama', 'Action', 'Horror']</td>\n",
       "      <td>https://nostromopictures.com/en/movies/coming-...</td>\n",
       "      <td>['Nostromo Pictures']</td>\n",
       "      <td>['Spain']</td>\n",
       "      <td>0</td>\n",
       "      <td>119</td>\n",
       "      <td>Carles Torrens</td>\n",
       "      <td>Francisco Ortiz, José María Yázpik, Berta Vázquez</td>\n",
       "      <td>based on novel or book, cat, human animal rela...</td>\n",
       "    </tr>\n",
       "    <tr>\n",
       "      <th>4</th>\n",
       "      <td>Gladiator II</td>\n",
       "      <td>558449</td>\n",
       "      <td>Years after witnessing the death of the revere...</td>\n",
       "      <td>en</td>\n",
       "      <td>2024-11-13</td>\n",
       "      <td>1742.500</td>\n",
       "      <td>450</td>\n",
       "      <td>6.791</td>\n",
       "      <td>310000000</td>\n",
       "      <td>['Action', 'Adventure', 'Drama']</td>\n",
       "      <td>https://www.gladiator.movie</td>\n",
       "      <td>['Paramount Pictures', 'Red Wagon Entertainmen...</td>\n",
       "      <td>['United States of America']</td>\n",
       "      <td>87000000</td>\n",
       "      <td>148</td>\n",
       "      <td>Ridley Scott</td>\n",
       "      <td>Paul Mescal, Denzel Washington, Pedro Pascal</td>\n",
       "      <td>epic, gladiator, roman empire, ancient rome, s...</td>\n",
       "    </tr>\n",
       "  </tbody>\n",
       "</table>\n",
       "</div>"
      ],
      "text/plain": [
       "                                    title  movie_ID  \\\n",
       "0                   Venom: The Last Dance    912649   \n",
       "1                             Terrifier 3   1034541   \n",
       "2                          The Wild Robot   1184918   \n",
       "3  Apocalypse Z: The Beginning of the End   1118031   \n",
       "4                            Gladiator II    558449   \n",
       "\n",
       "                                            overview original_language  \\\n",
       "0  Eddie and Venom are on the run. Hunted by both...                en   \n",
       "1  Five years after surviving Art the Clown's Hal...                en   \n",
       "2  After a shipwreck, an intelligent robot called...                en   \n",
       "3  When a kind of rabies that transforms people i...                es   \n",
       "4  Years after witnessing the death of the revere...                en   \n",
       "\n",
       "  release_date  popularity  vote_count  vote_average     budget  \\\n",
       "0   2024-10-22    3047.508         789         6.489  120000000   \n",
       "1   2024-10-09    1929.351        1031         6.909    2000000   \n",
       "2   2024-09-12    1808.363        2938         8.471   78000000   \n",
       "3   2024-10-04    1638.618         498         6.784          0   \n",
       "4   2024-11-13    1742.500         450         6.791  310000000   \n",
       "\n",
       "                                       genres  \\\n",
       "0  ['Science Fiction', 'Action', 'Adventure']   \n",
       "1           ['Horror', 'Thriller', 'Mystery']   \n",
       "2  ['Animation', 'Science Fiction', 'Family']   \n",
       "3               ['Drama', 'Action', 'Horror']   \n",
       "4            ['Action', 'Adventure', 'Drama']   \n",
       "\n",
       "                                            homepage  \\\n",
       "0                                https://venom.movie   \n",
       "1                            https://terrifier3.com/   \n",
       "2                  https://www.thewildrobotmovie.com   \n",
       "3  https://nostromopictures.com/en/movies/coming-...   \n",
       "4                        https://www.gladiator.movie   \n",
       "\n",
       "                                production_companies  \\\n",
       "0  ['Columbia Pictures', 'Pascal Pictures', 'Matt...   \n",
       "1  ['Cineverse', 'Bloody Disgusting', 'Dark Age C...   \n",
       "2                           ['DreamWorks Animation']   \n",
       "3                              ['Nostromo Pictures']   \n",
       "4  ['Paramount Pictures', 'Red Wagon Entertainmen...   \n",
       "\n",
       "           production_countries    revenue  runtime        director  \\\n",
       "0  ['United States of America']  394000000      109    Kelly Marcel   \n",
       "1  ['United States of America']   78573405      125    Damien Leone   \n",
       "2  ['United States of America']  308583746      102   Chris Sanders   \n",
       "3                     ['Spain']          0      119  Carles Torrens   \n",
       "4  ['United States of America']   87000000      148    Ridley Scott   \n",
       "\n",
       "                                          top_actors  \\\n",
       "0           Tom Hardy, Chiwetel Ejiofor, Juno Temple   \n",
       "1  Lauren LaVera, David Howard Thornton, Samantha...   \n",
       "2           Lupita Nyong'o, Pedro Pascal, Kit Connor   \n",
       "3  Francisco Ortiz, José María Yázpik, Berta Vázquez   \n",
       "4       Paul Mescal, Denzel Washington, Pedro Pascal   \n",
       "\n",
       "                                            keywords  \n",
       "0  hero, superhero, anti hero, villain, alien lif...  \n",
       "1  monster, post-traumatic stress disorder (ptsd)...  \n",
       "2  robot, based on children's book, aftercreditss...  \n",
       "3  based on novel or book, cat, human animal rela...  \n",
       "4  epic, gladiator, roman empire, ancient rome, s...  "
      ]
     },
     "execution_count": 4,
     "metadata": {},
     "output_type": "execute_result"
    }
   ],
   "source": [
    "# Displaying the top 5 rows\n",
    "df.head()"
   ]
  },
  {
   "cell_type": "markdown",
   "id": "4ec73e1f",
   "metadata": {},
   "source": [
    "Columns to retain\n",
    "- genres - to classify movies \n",
    "- id - to get the poster for streamlit\n",
    "- title\n",
    "- overview\n",
    "- director\n",
    "- top_actors"
   ]
  },
  {
   "cell_type": "code",
   "execution_count": 5,
   "id": "ca746a3d",
   "metadata": {},
   "outputs": [],
   "source": [
    "# Select required columns for the recommender system\n",
    "df_req = df[['movie_ID','title','overview','genres','director','top_actors','keywords']]"
   ]
  },
  {
   "cell_type": "code",
   "execution_count": 6,
   "id": "07296a14",
   "metadata": {},
   "outputs": [
    {
     "data": {
      "text/html": [
       "<div>\n",
       "<style scoped>\n",
       "    .dataframe tbody tr th:only-of-type {\n",
       "        vertical-align: middle;\n",
       "    }\n",
       "\n",
       "    .dataframe tbody tr th {\n",
       "        vertical-align: top;\n",
       "    }\n",
       "\n",
       "    .dataframe thead th {\n",
       "        text-align: right;\n",
       "    }\n",
       "</style>\n",
       "<table border=\"1\" class=\"dataframe\">\n",
       "  <thead>\n",
       "    <tr style=\"text-align: right;\">\n",
       "      <th></th>\n",
       "      <th>movie_ID</th>\n",
       "      <th>title</th>\n",
       "      <th>overview</th>\n",
       "      <th>genres</th>\n",
       "      <th>director</th>\n",
       "      <th>top_actors</th>\n",
       "      <th>keywords</th>\n",
       "    </tr>\n",
       "  </thead>\n",
       "  <tbody>\n",
       "    <tr>\n",
       "      <th>0</th>\n",
       "      <td>912649</td>\n",
       "      <td>Venom: The Last Dance</td>\n",
       "      <td>Eddie and Venom are on the run. Hunted by both...</td>\n",
       "      <td>['Science Fiction', 'Action', 'Adventure']</td>\n",
       "      <td>Kelly Marcel</td>\n",
       "      <td>Tom Hardy, Chiwetel Ejiofor, Juno Temple</td>\n",
       "      <td>hero, superhero, anti hero, villain, alien lif...</td>\n",
       "    </tr>\n",
       "    <tr>\n",
       "      <th>1</th>\n",
       "      <td>1034541</td>\n",
       "      <td>Terrifier 3</td>\n",
       "      <td>Five years after surviving Art the Clown's Hal...</td>\n",
       "      <td>['Horror', 'Thriller', 'Mystery']</td>\n",
       "      <td>Damien Leone</td>\n",
       "      <td>Lauren LaVera, David Howard Thornton, Samantha...</td>\n",
       "      <td>monster, post-traumatic stress disorder (ptsd)...</td>\n",
       "    </tr>\n",
       "    <tr>\n",
       "      <th>2</th>\n",
       "      <td>1184918</td>\n",
       "      <td>The Wild Robot</td>\n",
       "      <td>After a shipwreck, an intelligent robot called...</td>\n",
       "      <td>['Animation', 'Science Fiction', 'Family']</td>\n",
       "      <td>Chris Sanders</td>\n",
       "      <td>Lupita Nyong'o, Pedro Pascal, Kit Connor</td>\n",
       "      <td>robot, based on children's book, aftercreditss...</td>\n",
       "    </tr>\n",
       "    <tr>\n",
       "      <th>3</th>\n",
       "      <td>1118031</td>\n",
       "      <td>Apocalypse Z: The Beginning of the End</td>\n",
       "      <td>When a kind of rabies that transforms people i...</td>\n",
       "      <td>['Drama', 'Action', 'Horror']</td>\n",
       "      <td>Carles Torrens</td>\n",
       "      <td>Francisco Ortiz, José María Yázpik, Berta Vázquez</td>\n",
       "      <td>based on novel or book, cat, human animal rela...</td>\n",
       "    </tr>\n",
       "    <tr>\n",
       "      <th>4</th>\n",
       "      <td>558449</td>\n",
       "      <td>Gladiator II</td>\n",
       "      <td>Years after witnessing the death of the revere...</td>\n",
       "      <td>['Action', 'Adventure', 'Drama']</td>\n",
       "      <td>Ridley Scott</td>\n",
       "      <td>Paul Mescal, Denzel Washington, Pedro Pascal</td>\n",
       "      <td>epic, gladiator, roman empire, ancient rome, s...</td>\n",
       "    </tr>\n",
       "  </tbody>\n",
       "</table>\n",
       "</div>"
      ],
      "text/plain": [
       "   movie_ID                                   title  \\\n",
       "0    912649                   Venom: The Last Dance   \n",
       "1   1034541                             Terrifier 3   \n",
       "2   1184918                          The Wild Robot   \n",
       "3   1118031  Apocalypse Z: The Beginning of the End   \n",
       "4    558449                            Gladiator II   \n",
       "\n",
       "                                            overview  \\\n",
       "0  Eddie and Venom are on the run. Hunted by both...   \n",
       "1  Five years after surviving Art the Clown's Hal...   \n",
       "2  After a shipwreck, an intelligent robot called...   \n",
       "3  When a kind of rabies that transforms people i...   \n",
       "4  Years after witnessing the death of the revere...   \n",
       "\n",
       "                                       genres        director  \\\n",
       "0  ['Science Fiction', 'Action', 'Adventure']    Kelly Marcel   \n",
       "1           ['Horror', 'Thriller', 'Mystery']    Damien Leone   \n",
       "2  ['Animation', 'Science Fiction', 'Family']   Chris Sanders   \n",
       "3               ['Drama', 'Action', 'Horror']  Carles Torrens   \n",
       "4            ['Action', 'Adventure', 'Drama']    Ridley Scott   \n",
       "\n",
       "                                          top_actors  \\\n",
       "0           Tom Hardy, Chiwetel Ejiofor, Juno Temple   \n",
       "1  Lauren LaVera, David Howard Thornton, Samantha...   \n",
       "2           Lupita Nyong'o, Pedro Pascal, Kit Connor   \n",
       "3  Francisco Ortiz, José María Yázpik, Berta Vázquez   \n",
       "4       Paul Mescal, Denzel Washington, Pedro Pascal   \n",
       "\n",
       "                                            keywords  \n",
       "0  hero, superhero, anti hero, villain, alien lif...  \n",
       "1  monster, post-traumatic stress disorder (ptsd)...  \n",
       "2  robot, based on children's book, aftercreditss...  \n",
       "3  based on novel or book, cat, human animal rela...  \n",
       "4  epic, gladiator, roman empire, ancient rome, s...  "
      ]
     },
     "execution_count": 6,
     "metadata": {},
     "output_type": "execute_result"
    }
   ],
   "source": [
    "# Displaying the top 5 rows of 'df_req'\n",
    "df_req.head()"
   ]
  },
  {
   "cell_type": "markdown",
   "id": "b25ecd0c",
   "metadata": {},
   "source": [
    "transform the above to a data_frame where there are only three columns\n",
    "- movie_ID\n",
    "- title\n",
    "- tags"
   ]
  },
  {
   "cell_type": "markdown",
   "id": "1eb7757e",
   "metadata": {},
   "source": [
    "## Data Pre-Processing"
   ]
  },
  {
   "cell_type": "code",
   "execution_count": 7,
   "id": "da950736",
   "metadata": {},
   "outputs": [
    {
     "data": {
      "text/plain": [
       "movie_ID        0\n",
       "title           0\n",
       "overview       78\n",
       "genres          0\n",
       "director       64\n",
       "top_actors     75\n",
       "keywords      919\n",
       "dtype: int64"
      ]
     },
     "execution_count": 7,
     "metadata": {},
     "output_type": "execute_result"
    }
   ],
   "source": [
    "# Checking for null values\n",
    "df_req.isnull().sum()"
   ]
  },
  {
   "cell_type": "code",
   "execution_count": 8,
   "id": "792a7371",
   "metadata": {
    "scrolled": false
   },
   "outputs": [],
   "source": [
    "# Dropiign the null values as they are small in number compared to the dataset\n",
    "df_req = df_req.fillna('')"
   ]
  },
  {
   "cell_type": "code",
   "execution_count": 9,
   "id": "d53df72e",
   "metadata": {},
   "outputs": [
    {
     "data": {
      "text/plain": [
       "(9130, 7)"
      ]
     },
     "execution_count": 9,
     "metadata": {},
     "output_type": "execute_result"
    }
   ],
   "source": [
    "# Verifying the shape of 'df_req' after dropping the null rows\n",
    "df_req.shape"
   ]
  },
  {
   "cell_type": "code",
   "execution_count": 10,
   "id": "c216a8e7",
   "metadata": {},
   "outputs": [
    {
     "data": {
      "text/plain": [
       "movie_ID      0\n",
       "title         0\n",
       "overview      0\n",
       "genres        0\n",
       "director      0\n",
       "top_actors    0\n",
       "keywords      0\n",
       "dtype: int64"
      ]
     },
     "execution_count": 10,
     "metadata": {},
     "output_type": "execute_result"
    }
   ],
   "source": [
    "df_req.isnull().sum()"
   ]
  },
  {
   "cell_type": "code",
   "execution_count": 11,
   "id": "753e792c",
   "metadata": {},
   "outputs": [
    {
     "data": {
      "text/plain": [
       "0"
      ]
     },
     "execution_count": 11,
     "metadata": {},
     "output_type": "execute_result"
    }
   ],
   "source": [
    "# Checking for duplicates\n",
    "df_req.duplicated().sum()"
   ]
  },
  {
   "cell_type": "markdown",
   "id": "b42a731b",
   "metadata": {},
   "source": [
    "There are no duplicates in the 'df_req' dataset"
   ]
  },
  {
   "cell_type": "markdown",
   "id": "e9331c97",
   "metadata": {},
   "source": [
    "##### Convert the string value of 'genres' column to a python list using ast.literal_eval"
   ]
  },
  {
   "cell_type": "code",
   "execution_count": 12,
   "id": "bbea2f2c",
   "metadata": {},
   "outputs": [
    {
     "data": {
      "text/plain": [
       "\"['Science Fiction', 'Action', 'Adventure']\""
      ]
     },
     "execution_count": 12,
     "metadata": {},
     "output_type": "execute_result"
    }
   ],
   "source": [
    "df_req.iloc[0].genres"
   ]
  },
  {
   "cell_type": "code",
   "execution_count": 13,
   "id": "2e0355c1",
   "metadata": {},
   "outputs": [],
   "source": [
    "df_req['genres'] = df_req['genres'].apply(ast.literal_eval)"
   ]
  },
  {
   "cell_type": "code",
   "execution_count": 14,
   "id": "fd5f49d7",
   "metadata": {
    "scrolled": true
   },
   "outputs": [
    {
     "data": {
      "text/plain": [
       "['Science Fiction', 'Action', 'Adventure']"
      ]
     },
     "execution_count": 14,
     "metadata": {},
     "output_type": "execute_result"
    }
   ],
   "source": [
    "df_req.iloc[0].genres"
   ]
  },
  {
   "cell_type": "markdown",
   "id": "33bec0db",
   "metadata": {},
   "source": [
    "##### Converting string 'top_actors' column to a list"
   ]
  },
  {
   "cell_type": "code",
   "execution_count": 15,
   "id": "35deded5",
   "metadata": {},
   "outputs": [
    {
     "data": {
      "text/plain": [
       "'Tom Hardy, Chiwetel Ejiofor, Juno Temple'"
      ]
     },
     "execution_count": 15,
     "metadata": {},
     "output_type": "execute_result"
    }
   ],
   "source": [
    "df_req.iloc[0].top_actors"
   ]
  },
  {
   "cell_type": "code",
   "execution_count": 16,
   "id": "cf810750",
   "metadata": {},
   "outputs": [],
   "source": [
    "df_req['top_actors'] = df_req['top_actors'].apply(lambda x: x.split(', '))"
   ]
  },
  {
   "cell_type": "code",
   "execution_count": 17,
   "id": "8c809225",
   "metadata": {
    "scrolled": true
   },
   "outputs": [
    {
     "data": {
      "text/plain": [
       "['Tom Hardy', 'Chiwetel Ejiofor', 'Juno Temple']"
      ]
     },
     "execution_count": 17,
     "metadata": {},
     "output_type": "execute_result"
    }
   ],
   "source": [
    "df_req.iloc[0].top_actors"
   ]
  },
  {
   "cell_type": "markdown",
   "id": "8c94b72a",
   "metadata": {},
   "source": [
    "#### Converting overview and keywords also to a list"
   ]
  },
  {
   "cell_type": "code",
   "execution_count": 18,
   "id": "035edb2e",
   "metadata": {},
   "outputs": [],
   "source": [
    "df_req['overview'] = df_req['overview'].apply(lambda x:x.split())\n",
    "df_req['keywords'] = df_req['keywords'].apply(lambda x:x.split())"
   ]
  },
  {
   "cell_type": "code",
   "execution_count": 19,
   "id": "9302f13c",
   "metadata": {},
   "outputs": [
    {
     "data": {
      "text/html": [
       "<div>\n",
       "<style scoped>\n",
       "    .dataframe tbody tr th:only-of-type {\n",
       "        vertical-align: middle;\n",
       "    }\n",
       "\n",
       "    .dataframe tbody tr th {\n",
       "        vertical-align: top;\n",
       "    }\n",
       "\n",
       "    .dataframe thead th {\n",
       "        text-align: right;\n",
       "    }\n",
       "</style>\n",
       "<table border=\"1\" class=\"dataframe\">\n",
       "  <thead>\n",
       "    <tr style=\"text-align: right;\">\n",
       "      <th></th>\n",
       "      <th>movie_ID</th>\n",
       "      <th>title</th>\n",
       "      <th>overview</th>\n",
       "      <th>genres</th>\n",
       "      <th>director</th>\n",
       "      <th>top_actors</th>\n",
       "      <th>keywords</th>\n",
       "    </tr>\n",
       "  </thead>\n",
       "  <tbody>\n",
       "    <tr>\n",
       "      <th>0</th>\n",
       "      <td>912649</td>\n",
       "      <td>Venom: The Last Dance</td>\n",
       "      <td>[Eddie, and, Venom, are, on, the, run., Hunted...</td>\n",
       "      <td>[Science Fiction, Action, Adventure]</td>\n",
       "      <td>Kelly Marcel</td>\n",
       "      <td>[Tom Hardy, Chiwetel Ejiofor, Juno Temple]</td>\n",
       "      <td>[hero,, superhero,, anti, hero,, villain,, ali...</td>\n",
       "    </tr>\n",
       "    <tr>\n",
       "      <th>1</th>\n",
       "      <td>1034541</td>\n",
       "      <td>Terrifier 3</td>\n",
       "      <td>[Five, years, after, surviving, Art, the, Clow...</td>\n",
       "      <td>[Horror, Thriller, Mystery]</td>\n",
       "      <td>Damien Leone</td>\n",
       "      <td>[Lauren LaVera, David Howard Thornton, Samanth...</td>\n",
       "      <td>[monster,, post-traumatic, stress, disorder, (...</td>\n",
       "    </tr>\n",
       "    <tr>\n",
       "      <th>2</th>\n",
       "      <td>1184918</td>\n",
       "      <td>The Wild Robot</td>\n",
       "      <td>[After, a, shipwreck,, an, intelligent, robot,...</td>\n",
       "      <td>[Animation, Science Fiction, Family]</td>\n",
       "      <td>Chris Sanders</td>\n",
       "      <td>[Lupita Nyong'o, Pedro Pascal, Kit Connor]</td>\n",
       "      <td>[robot,, based, on, children's, book,, aftercr...</td>\n",
       "    </tr>\n",
       "    <tr>\n",
       "      <th>3</th>\n",
       "      <td>1118031</td>\n",
       "      <td>Apocalypse Z: The Beginning of the End</td>\n",
       "      <td>[When, a, kind, of, rabies, that, transforms, ...</td>\n",
       "      <td>[Drama, Action, Horror]</td>\n",
       "      <td>Carles Torrens</td>\n",
       "      <td>[Francisco Ortiz, José María Yázpik, Berta Váz...</td>\n",
       "      <td>[based, on, novel, or, book,, cat,, human, ani...</td>\n",
       "    </tr>\n",
       "    <tr>\n",
       "      <th>4</th>\n",
       "      <td>558449</td>\n",
       "      <td>Gladiator II</td>\n",
       "      <td>[Years, after, witnessing, the, death, of, the...</td>\n",
       "      <td>[Action, Adventure, Drama]</td>\n",
       "      <td>Ridley Scott</td>\n",
       "      <td>[Paul Mescal, Denzel Washington, Pedro Pascal]</td>\n",
       "      <td>[epic,, gladiator,, roman, empire,, ancient, r...</td>\n",
       "    </tr>\n",
       "  </tbody>\n",
       "</table>\n",
       "</div>"
      ],
      "text/plain": [
       "   movie_ID                                   title  \\\n",
       "0    912649                   Venom: The Last Dance   \n",
       "1   1034541                             Terrifier 3   \n",
       "2   1184918                          The Wild Robot   \n",
       "3   1118031  Apocalypse Z: The Beginning of the End   \n",
       "4    558449                            Gladiator II   \n",
       "\n",
       "                                            overview  \\\n",
       "0  [Eddie, and, Venom, are, on, the, run., Hunted...   \n",
       "1  [Five, years, after, surviving, Art, the, Clow...   \n",
       "2  [After, a, shipwreck,, an, intelligent, robot,...   \n",
       "3  [When, a, kind, of, rabies, that, transforms, ...   \n",
       "4  [Years, after, witnessing, the, death, of, the...   \n",
       "\n",
       "                                 genres        director  \\\n",
       "0  [Science Fiction, Action, Adventure]    Kelly Marcel   \n",
       "1           [Horror, Thriller, Mystery]    Damien Leone   \n",
       "2  [Animation, Science Fiction, Family]   Chris Sanders   \n",
       "3               [Drama, Action, Horror]  Carles Torrens   \n",
       "4            [Action, Adventure, Drama]    Ridley Scott   \n",
       "\n",
       "                                          top_actors  \\\n",
       "0         [Tom Hardy, Chiwetel Ejiofor, Juno Temple]   \n",
       "1  [Lauren LaVera, David Howard Thornton, Samanth...   \n",
       "2         [Lupita Nyong'o, Pedro Pascal, Kit Connor]   \n",
       "3  [Francisco Ortiz, José María Yázpik, Berta Váz...   \n",
       "4     [Paul Mescal, Denzel Washington, Pedro Pascal]   \n",
       "\n",
       "                                            keywords  \n",
       "0  [hero,, superhero,, anti, hero,, villain,, ali...  \n",
       "1  [monster,, post-traumatic, stress, disorder, (...  \n",
       "2  [robot,, based, on, children's, book,, aftercr...  \n",
       "3  [based, on, novel, or, book,, cat,, human, ani...  \n",
       "4  [epic,, gladiator,, roman, empire,, ancient, r...  "
      ]
     },
     "execution_count": 19,
     "metadata": {},
     "output_type": "execute_result"
    }
   ],
   "source": [
    "df_req.head()"
   ]
  },
  {
   "cell_type": "markdown",
   "id": "20d211d7",
   "metadata": {},
   "source": [
    "### Transforming the columns by removing the space"
   ]
  },
  {
   "cell_type": "code",
   "execution_count": 20,
   "id": "41cadf94",
   "metadata": {},
   "outputs": [],
   "source": [
    "df_req['genres'] = df_req['genres'].apply(lambda x:[i.replace(' ','') for i in x])\n",
    "\n",
    "df_req['overview'] = df_req['overview'].apply(lambda x:[i.replace(' ','') for i in x])\n",
    "\n",
    "df_req['director'] = df_req['director'].apply(lambda x: x.replace(\" \", \"\") if isinstance(x, str) else x)\n",
    "\n",
    "df_req['top_actors'] = df_req['top_actors'].apply(lambda x:[i.replace(' ','') for i in x])\n",
    "\n",
    "df_req['top_actors'] = df_req['top_actors'].apply(lambda x:[i.replace(' ','') for i in x])"
   ]
  },
  {
   "cell_type": "code",
   "execution_count": 21,
   "id": "8708f85a",
   "metadata": {},
   "outputs": [],
   "source": [
    "df_req['director'] = df_req['director'].apply(lambda x: [x] if isinstance(x, str) else x)"
   ]
  },
  {
   "cell_type": "code",
   "execution_count": 22,
   "id": "2287880c",
   "metadata": {
    "scrolled": true
   },
   "outputs": [
    {
     "data": {
      "text/html": [
       "<div>\n",
       "<style scoped>\n",
       "    .dataframe tbody tr th:only-of-type {\n",
       "        vertical-align: middle;\n",
       "    }\n",
       "\n",
       "    .dataframe tbody tr th {\n",
       "        vertical-align: top;\n",
       "    }\n",
       "\n",
       "    .dataframe thead th {\n",
       "        text-align: right;\n",
       "    }\n",
       "</style>\n",
       "<table border=\"1\" class=\"dataframe\">\n",
       "  <thead>\n",
       "    <tr style=\"text-align: right;\">\n",
       "      <th></th>\n",
       "      <th>movie_ID</th>\n",
       "      <th>title</th>\n",
       "      <th>overview</th>\n",
       "      <th>genres</th>\n",
       "      <th>director</th>\n",
       "      <th>top_actors</th>\n",
       "      <th>keywords</th>\n",
       "    </tr>\n",
       "  </thead>\n",
       "  <tbody>\n",
       "    <tr>\n",
       "      <th>0</th>\n",
       "      <td>912649</td>\n",
       "      <td>Venom: The Last Dance</td>\n",
       "      <td>[Eddie, and, Venom, are, on, the, run., Hunted...</td>\n",
       "      <td>[ScienceFiction, Action, Adventure]</td>\n",
       "      <td>[KellyMarcel]</td>\n",
       "      <td>[TomHardy, ChiwetelEjiofor, JunoTemple]</td>\n",
       "      <td>[hero,, superhero,, anti, hero,, villain,, ali...</td>\n",
       "    </tr>\n",
       "    <tr>\n",
       "      <th>1</th>\n",
       "      <td>1034541</td>\n",
       "      <td>Terrifier 3</td>\n",
       "      <td>[Five, years, after, surviving, Art, the, Clow...</td>\n",
       "      <td>[Horror, Thriller, Mystery]</td>\n",
       "      <td>[DamienLeone]</td>\n",
       "      <td>[LaurenLaVera, DavidHowardThornton, SamanthaSc...</td>\n",
       "      <td>[monster,, post-traumatic, stress, disorder, (...</td>\n",
       "    </tr>\n",
       "    <tr>\n",
       "      <th>2</th>\n",
       "      <td>1184918</td>\n",
       "      <td>The Wild Robot</td>\n",
       "      <td>[After, a, shipwreck,, an, intelligent, robot,...</td>\n",
       "      <td>[Animation, ScienceFiction, Family]</td>\n",
       "      <td>[ChrisSanders]</td>\n",
       "      <td>[LupitaNyong'o, PedroPascal, KitConnor]</td>\n",
       "      <td>[robot,, based, on, children's, book,, aftercr...</td>\n",
       "    </tr>\n",
       "    <tr>\n",
       "      <th>3</th>\n",
       "      <td>1118031</td>\n",
       "      <td>Apocalypse Z: The Beginning of the End</td>\n",
       "      <td>[When, a, kind, of, rabies, that, transforms, ...</td>\n",
       "      <td>[Drama, Action, Horror]</td>\n",
       "      <td>[CarlesTorrens]</td>\n",
       "      <td>[FranciscoOrtiz, JoséMaríaYázpik, BertaVázquez]</td>\n",
       "      <td>[based, on, novel, or, book,, cat,, human, ani...</td>\n",
       "    </tr>\n",
       "    <tr>\n",
       "      <th>4</th>\n",
       "      <td>558449</td>\n",
       "      <td>Gladiator II</td>\n",
       "      <td>[Years, after, witnessing, the, death, of, the...</td>\n",
       "      <td>[Action, Adventure, Drama]</td>\n",
       "      <td>[RidleyScott]</td>\n",
       "      <td>[PaulMescal, DenzelWashington, PedroPascal]</td>\n",
       "      <td>[epic,, gladiator,, roman, empire,, ancient, r...</td>\n",
       "    </tr>\n",
       "  </tbody>\n",
       "</table>\n",
       "</div>"
      ],
      "text/plain": [
       "   movie_ID                                   title  \\\n",
       "0    912649                   Venom: The Last Dance   \n",
       "1   1034541                             Terrifier 3   \n",
       "2   1184918                          The Wild Robot   \n",
       "3   1118031  Apocalypse Z: The Beginning of the End   \n",
       "4    558449                            Gladiator II   \n",
       "\n",
       "                                            overview  \\\n",
       "0  [Eddie, and, Venom, are, on, the, run., Hunted...   \n",
       "1  [Five, years, after, surviving, Art, the, Clow...   \n",
       "2  [After, a, shipwreck,, an, intelligent, robot,...   \n",
       "3  [When, a, kind, of, rabies, that, transforms, ...   \n",
       "4  [Years, after, witnessing, the, death, of, the...   \n",
       "\n",
       "                                genres         director  \\\n",
       "0  [ScienceFiction, Action, Adventure]    [KellyMarcel]   \n",
       "1          [Horror, Thriller, Mystery]    [DamienLeone]   \n",
       "2  [Animation, ScienceFiction, Family]   [ChrisSanders]   \n",
       "3              [Drama, Action, Horror]  [CarlesTorrens]   \n",
       "4           [Action, Adventure, Drama]    [RidleyScott]   \n",
       "\n",
       "                                          top_actors  \\\n",
       "0            [TomHardy, ChiwetelEjiofor, JunoTemple]   \n",
       "1  [LaurenLaVera, DavidHowardThornton, SamanthaSc...   \n",
       "2            [LupitaNyong'o, PedroPascal, KitConnor]   \n",
       "3    [FranciscoOrtiz, JoséMaríaYázpik, BertaVázquez]   \n",
       "4        [PaulMescal, DenzelWashington, PedroPascal]   \n",
       "\n",
       "                                            keywords  \n",
       "0  [hero,, superhero,, anti, hero,, villain,, ali...  \n",
       "1  [monster,, post-traumatic, stress, disorder, (...  \n",
       "2  [robot,, based, on, children's, book,, aftercr...  \n",
       "3  [based, on, novel, or, book,, cat,, human, ani...  \n",
       "4  [epic,, gladiator,, roman, empire,, ancient, r...  "
      ]
     },
     "execution_count": 22,
     "metadata": {},
     "output_type": "execute_result"
    }
   ],
   "source": [
    "df_req.head()"
   ]
  },
  {
   "cell_type": "code",
   "execution_count": 23,
   "id": "31f3108f",
   "metadata": {},
   "outputs": [],
   "source": [
    "# Concatinating the columns\n",
    "\n",
    "df_req['tags'] = df_req['overview'] + df_req['genres'] + df_req['director'] + df_req['top_actors'] + df_req['keywords']"
   ]
  },
  {
   "cell_type": "code",
   "execution_count": 24,
   "id": "34a7f34c",
   "metadata": {},
   "outputs": [
    {
     "data": {
      "text/html": [
       "<div>\n",
       "<style scoped>\n",
       "    .dataframe tbody tr th:only-of-type {\n",
       "        vertical-align: middle;\n",
       "    }\n",
       "\n",
       "    .dataframe tbody tr th {\n",
       "        vertical-align: top;\n",
       "    }\n",
       "\n",
       "    .dataframe thead th {\n",
       "        text-align: right;\n",
       "    }\n",
       "</style>\n",
       "<table border=\"1\" class=\"dataframe\">\n",
       "  <thead>\n",
       "    <tr style=\"text-align: right;\">\n",
       "      <th></th>\n",
       "      <th>movie_ID</th>\n",
       "      <th>title</th>\n",
       "      <th>overview</th>\n",
       "      <th>genres</th>\n",
       "      <th>director</th>\n",
       "      <th>top_actors</th>\n",
       "      <th>keywords</th>\n",
       "      <th>tags</th>\n",
       "    </tr>\n",
       "  </thead>\n",
       "  <tbody>\n",
       "    <tr>\n",
       "      <th>0</th>\n",
       "      <td>912649</td>\n",
       "      <td>Venom: The Last Dance</td>\n",
       "      <td>[Eddie, and, Venom, are, on, the, run., Hunted...</td>\n",
       "      <td>[ScienceFiction, Action, Adventure]</td>\n",
       "      <td>[KellyMarcel]</td>\n",
       "      <td>[TomHardy, ChiwetelEjiofor, JunoTemple]</td>\n",
       "      <td>[hero,, superhero,, anti, hero,, villain,, ali...</td>\n",
       "      <td>[Eddie, and, Venom, are, on, the, run., Hunted...</td>\n",
       "    </tr>\n",
       "    <tr>\n",
       "      <th>1</th>\n",
       "      <td>1034541</td>\n",
       "      <td>Terrifier 3</td>\n",
       "      <td>[Five, years, after, surviving, Art, the, Clow...</td>\n",
       "      <td>[Horror, Thriller, Mystery]</td>\n",
       "      <td>[DamienLeone]</td>\n",
       "      <td>[LaurenLaVera, DavidHowardThornton, SamanthaSc...</td>\n",
       "      <td>[monster,, post-traumatic, stress, disorder, (...</td>\n",
       "      <td>[Five, years, after, surviving, Art, the, Clow...</td>\n",
       "    </tr>\n",
       "    <tr>\n",
       "      <th>2</th>\n",
       "      <td>1184918</td>\n",
       "      <td>The Wild Robot</td>\n",
       "      <td>[After, a, shipwreck,, an, intelligent, robot,...</td>\n",
       "      <td>[Animation, ScienceFiction, Family]</td>\n",
       "      <td>[ChrisSanders]</td>\n",
       "      <td>[LupitaNyong'o, PedroPascal, KitConnor]</td>\n",
       "      <td>[robot,, based, on, children's, book,, aftercr...</td>\n",
       "      <td>[After, a, shipwreck,, an, intelligent, robot,...</td>\n",
       "    </tr>\n",
       "    <tr>\n",
       "      <th>3</th>\n",
       "      <td>1118031</td>\n",
       "      <td>Apocalypse Z: The Beginning of the End</td>\n",
       "      <td>[When, a, kind, of, rabies, that, transforms, ...</td>\n",
       "      <td>[Drama, Action, Horror]</td>\n",
       "      <td>[CarlesTorrens]</td>\n",
       "      <td>[FranciscoOrtiz, JoséMaríaYázpik, BertaVázquez]</td>\n",
       "      <td>[based, on, novel, or, book,, cat,, human, ani...</td>\n",
       "      <td>[When, a, kind, of, rabies, that, transforms, ...</td>\n",
       "    </tr>\n",
       "    <tr>\n",
       "      <th>4</th>\n",
       "      <td>558449</td>\n",
       "      <td>Gladiator II</td>\n",
       "      <td>[Years, after, witnessing, the, death, of, the...</td>\n",
       "      <td>[Action, Adventure, Drama]</td>\n",
       "      <td>[RidleyScott]</td>\n",
       "      <td>[PaulMescal, DenzelWashington, PedroPascal]</td>\n",
       "      <td>[epic,, gladiator,, roman, empire,, ancient, r...</td>\n",
       "      <td>[Years, after, witnessing, the, death, of, the...</td>\n",
       "    </tr>\n",
       "  </tbody>\n",
       "</table>\n",
       "</div>"
      ],
      "text/plain": [
       "   movie_ID                                   title  \\\n",
       "0    912649                   Venom: The Last Dance   \n",
       "1   1034541                             Terrifier 3   \n",
       "2   1184918                          The Wild Robot   \n",
       "3   1118031  Apocalypse Z: The Beginning of the End   \n",
       "4    558449                            Gladiator II   \n",
       "\n",
       "                                            overview  \\\n",
       "0  [Eddie, and, Venom, are, on, the, run., Hunted...   \n",
       "1  [Five, years, after, surviving, Art, the, Clow...   \n",
       "2  [After, a, shipwreck,, an, intelligent, robot,...   \n",
       "3  [When, a, kind, of, rabies, that, transforms, ...   \n",
       "4  [Years, after, witnessing, the, death, of, the...   \n",
       "\n",
       "                                genres         director  \\\n",
       "0  [ScienceFiction, Action, Adventure]    [KellyMarcel]   \n",
       "1          [Horror, Thriller, Mystery]    [DamienLeone]   \n",
       "2  [Animation, ScienceFiction, Family]   [ChrisSanders]   \n",
       "3              [Drama, Action, Horror]  [CarlesTorrens]   \n",
       "4           [Action, Adventure, Drama]    [RidleyScott]   \n",
       "\n",
       "                                          top_actors  \\\n",
       "0            [TomHardy, ChiwetelEjiofor, JunoTemple]   \n",
       "1  [LaurenLaVera, DavidHowardThornton, SamanthaSc...   \n",
       "2            [LupitaNyong'o, PedroPascal, KitConnor]   \n",
       "3    [FranciscoOrtiz, JoséMaríaYázpik, BertaVázquez]   \n",
       "4        [PaulMescal, DenzelWashington, PedroPascal]   \n",
       "\n",
       "                                            keywords  \\\n",
       "0  [hero,, superhero,, anti, hero,, villain,, ali...   \n",
       "1  [monster,, post-traumatic, stress, disorder, (...   \n",
       "2  [robot,, based, on, children's, book,, aftercr...   \n",
       "3  [based, on, novel, or, book,, cat,, human, ani...   \n",
       "4  [epic,, gladiator,, roman, empire,, ancient, r...   \n",
       "\n",
       "                                                tags  \n",
       "0  [Eddie, and, Venom, are, on, the, run., Hunted...  \n",
       "1  [Five, years, after, surviving, Art, the, Clow...  \n",
       "2  [After, a, shipwreck,, an, intelligent, robot,...  \n",
       "3  [When, a, kind, of, rabies, that, transforms, ...  \n",
       "4  [Years, after, witnessing, the, death, of, the...  "
      ]
     },
     "execution_count": 24,
     "metadata": {},
     "output_type": "execute_result"
    }
   ],
   "source": [
    "# Displaying tags\n",
    "df_req.head()"
   ]
  },
  {
   "cell_type": "code",
   "execution_count": 25,
   "id": "28c4d050",
   "metadata": {},
   "outputs": [],
   "source": [
    "# DataFrame for recommender system with movie_ID, title and tags\n",
    "\n",
    "new_df = df_req[['movie_ID','title','tags']]"
   ]
  },
  {
   "cell_type": "code",
   "execution_count": 26,
   "id": "41db6c09",
   "metadata": {
    "scrolled": true
   },
   "outputs": [
    {
     "data": {
      "text/html": [
       "<div>\n",
       "<style scoped>\n",
       "    .dataframe tbody tr th:only-of-type {\n",
       "        vertical-align: middle;\n",
       "    }\n",
       "\n",
       "    .dataframe tbody tr th {\n",
       "        vertical-align: top;\n",
       "    }\n",
       "\n",
       "    .dataframe thead th {\n",
       "        text-align: right;\n",
       "    }\n",
       "</style>\n",
       "<table border=\"1\" class=\"dataframe\">\n",
       "  <thead>\n",
       "    <tr style=\"text-align: right;\">\n",
       "      <th></th>\n",
       "      <th>movie_ID</th>\n",
       "      <th>title</th>\n",
       "      <th>tags</th>\n",
       "    </tr>\n",
       "  </thead>\n",
       "  <tbody>\n",
       "    <tr>\n",
       "      <th>0</th>\n",
       "      <td>912649</td>\n",
       "      <td>Venom: The Last Dance</td>\n",
       "      <td>[Eddie, and, Venom, are, on, the, run., Hunted...</td>\n",
       "    </tr>\n",
       "    <tr>\n",
       "      <th>1</th>\n",
       "      <td>1034541</td>\n",
       "      <td>Terrifier 3</td>\n",
       "      <td>[Five, years, after, surviving, Art, the, Clow...</td>\n",
       "    </tr>\n",
       "    <tr>\n",
       "      <th>2</th>\n",
       "      <td>1184918</td>\n",
       "      <td>The Wild Robot</td>\n",
       "      <td>[After, a, shipwreck,, an, intelligent, robot,...</td>\n",
       "    </tr>\n",
       "    <tr>\n",
       "      <th>3</th>\n",
       "      <td>1118031</td>\n",
       "      <td>Apocalypse Z: The Beginning of the End</td>\n",
       "      <td>[When, a, kind, of, rabies, that, transforms, ...</td>\n",
       "    </tr>\n",
       "    <tr>\n",
       "      <th>4</th>\n",
       "      <td>558449</td>\n",
       "      <td>Gladiator II</td>\n",
       "      <td>[Years, after, witnessing, the, death, of, the...</td>\n",
       "    </tr>\n",
       "  </tbody>\n",
       "</table>\n",
       "</div>"
      ],
      "text/plain": [
       "   movie_ID                                   title  \\\n",
       "0    912649                   Venom: The Last Dance   \n",
       "1   1034541                             Terrifier 3   \n",
       "2   1184918                          The Wild Robot   \n",
       "3   1118031  Apocalypse Z: The Beginning of the End   \n",
       "4    558449                            Gladiator II   \n",
       "\n",
       "                                                tags  \n",
       "0  [Eddie, and, Venom, are, on, the, run., Hunted...  \n",
       "1  [Five, years, after, surviving, Art, the, Clow...  \n",
       "2  [After, a, shipwreck,, an, intelligent, robot,...  \n",
       "3  [When, a, kind, of, rabies, that, transforms, ...  \n",
       "4  [Years, after, witnessing, the, death, of, the...  "
      ]
     },
     "execution_count": 26,
     "metadata": {},
     "output_type": "execute_result"
    }
   ],
   "source": [
    "new_df.head()"
   ]
  },
  {
   "cell_type": "code",
   "execution_count": 27,
   "id": "826c23d9",
   "metadata": {},
   "outputs": [],
   "source": [
    "new_df.loc[:,'tags'] = new_df['tags'].apply(lambda x : ' '.join(x))"
   ]
  },
  {
   "cell_type": "code",
   "execution_count": 28,
   "id": "dcbf20dd",
   "metadata": {},
   "outputs": [
    {
     "data": {
      "text/plain": [
       "\"Eddie and Venom are on the run. Hunted by both of their worlds and with the net closing in, the duo are forced into a devastating decision that will bring the curtains down on Venom and Eddie's last dance. ScienceFiction Action Adventure KellyMarcel TomHardy ChiwetelEjiofor JunoTemple hero, superhero, anti hero, villain, alien life-form, based on comic, sequel, aftercreditsstinger, woman director, absurd\""
      ]
     },
     "execution_count": 28,
     "metadata": {},
     "output_type": "execute_result"
    }
   ],
   "source": [
    "new_df['tags'][0]"
   ]
  },
  {
   "cell_type": "code",
   "execution_count": 29,
   "id": "3e704c65",
   "metadata": {},
   "outputs": [],
   "source": [
    "# converting to lowercase\n",
    "new_df.loc[:,'tags'] = new_df['tags'].apply(lambda x : x.lower())"
   ]
  },
  {
   "cell_type": "code",
   "execution_count": 30,
   "id": "32a19262",
   "metadata": {},
   "outputs": [
    {
     "data": {
      "text/html": [
       "<div>\n",
       "<style scoped>\n",
       "    .dataframe tbody tr th:only-of-type {\n",
       "        vertical-align: middle;\n",
       "    }\n",
       "\n",
       "    .dataframe tbody tr th {\n",
       "        vertical-align: top;\n",
       "    }\n",
       "\n",
       "    .dataframe thead th {\n",
       "        text-align: right;\n",
       "    }\n",
       "</style>\n",
       "<table border=\"1\" class=\"dataframe\">\n",
       "  <thead>\n",
       "    <tr style=\"text-align: right;\">\n",
       "      <th></th>\n",
       "      <th>movie_ID</th>\n",
       "      <th>title</th>\n",
       "      <th>tags</th>\n",
       "    </tr>\n",
       "  </thead>\n",
       "  <tbody>\n",
       "    <tr>\n",
       "      <th>0</th>\n",
       "      <td>912649</td>\n",
       "      <td>Venom: The Last Dance</td>\n",
       "      <td>eddie and venom are on the run. hunted by both...</td>\n",
       "    </tr>\n",
       "    <tr>\n",
       "      <th>1</th>\n",
       "      <td>1034541</td>\n",
       "      <td>Terrifier 3</td>\n",
       "      <td>five years after surviving art the clown's hal...</td>\n",
       "    </tr>\n",
       "    <tr>\n",
       "      <th>2</th>\n",
       "      <td>1184918</td>\n",
       "      <td>The Wild Robot</td>\n",
       "      <td>after a shipwreck, an intelligent robot called...</td>\n",
       "    </tr>\n",
       "    <tr>\n",
       "      <th>3</th>\n",
       "      <td>1118031</td>\n",
       "      <td>Apocalypse Z: The Beginning of the End</td>\n",
       "      <td>when a kind of rabies that transforms people i...</td>\n",
       "    </tr>\n",
       "    <tr>\n",
       "      <th>4</th>\n",
       "      <td>558449</td>\n",
       "      <td>Gladiator II</td>\n",
       "      <td>years after witnessing the death of the revere...</td>\n",
       "    </tr>\n",
       "  </tbody>\n",
       "</table>\n",
       "</div>"
      ],
      "text/plain": [
       "   movie_ID                                   title  \\\n",
       "0    912649                   Venom: The Last Dance   \n",
       "1   1034541                             Terrifier 3   \n",
       "2   1184918                          The Wild Robot   \n",
       "3   1118031  Apocalypse Z: The Beginning of the End   \n",
       "4    558449                            Gladiator II   \n",
       "\n",
       "                                                tags  \n",
       "0  eddie and venom are on the run. hunted by both...  \n",
       "1  five years after surviving art the clown's hal...  \n",
       "2  after a shipwreck, an intelligent robot called...  \n",
       "3  when a kind of rabies that transforms people i...  \n",
       "4  years after witnessing the death of the revere...  "
      ]
     },
     "execution_count": 30,
     "metadata": {},
     "output_type": "execute_result"
    }
   ],
   "source": [
    "new_df.head()"
   ]
  },
  {
   "cell_type": "markdown",
   "id": "8c98aab9",
   "metadata": {},
   "source": [
    "## Stemming\n",
    "\n",
    "To address the issue of multiple words sharing the same root, Stemming is applied to reduce variations like \"activity\" and \"activities\" to their root form, such as \"activ.\"\n",
    "\n",
    "This technique eliminates inconsistencies in word forms, ensuring the recommendation system treats them as identical words. By applying stemming to the 'tags' column, the system enhances its ability to recognize and compare movies with similar themes or topics, leading to more precise and relevant movie recommendations."
   ]
  },
  {
   "cell_type": "code",
   "execution_count": 31,
   "id": "1c3db538",
   "metadata": {},
   "outputs": [],
   "source": [
    "ps = PorterStemmer()"
   ]
  },
  {
   "cell_type": "code",
   "execution_count": 32,
   "id": "c6ae7dea",
   "metadata": {},
   "outputs": [],
   "source": [
    "# Function to apply stemming to a given text\n",
    "\n",
    "def stem(text):\n",
    "    y = []\n",
    "    \n",
    "    for i in text.split(): # splits the text into individual words, applies the stemmer to each word \n",
    "        y.append(ps.stem(i))\n",
    "        \n",
    "    return \" \".join(y) # joins the stemmed words back into a single string"
   ]
  },
  {
   "cell_type": "code",
   "execution_count": 33,
   "id": "c770c2b8",
   "metadata": {},
   "outputs": [],
   "source": [
    "new_df.loc[:,'tags'] = new_df['tags'].apply(stem)"
   ]
  },
  {
   "cell_type": "markdown",
   "id": "40e866e2",
   "metadata": {},
   "source": [
    "## Vectorization\n",
    "\n",
    "In this project, **vectorization** is used to represent movie metadata (tags) as numerical vectors. This process transforms text data—like genres, overviews, directors, and top actors—into a format that can be processed mathematically. \n",
    "\n",
    "### Bag of words\n",
    "\n",
    "One common technique for vectorization is the ***Bag of Words*** approach, which creates a matrix where rows represent movies, columns represent unique words, and the values indicate the frequency of those words in the tags."
   ]
  },
  {
   "cell_type": "code",
   "execution_count": 34,
   "id": "482947f1",
   "metadata": {},
   "outputs": [],
   "source": [
    "# Convert text to vectors with top 5000 words, excluding English stop words\n",
    "cv = CountVectorizer(max_features=6000, stop_words='english')"
   ]
  },
  {
   "cell_type": "code",
   "execution_count": 35,
   "id": "34687bfd",
   "metadata": {},
   "outputs": [],
   "source": [
    "# Generate feature vectors from the 'tags' column\n",
    "vectors = cv.fit_transform(new_df['tags']).toarray()"
   ]
  },
  {
   "cell_type": "code",
   "execution_count": 36,
   "id": "40186e90",
   "metadata": {
    "scrolled": true
   },
   "outputs": [
    {
     "data": {
      "text/plain": [
       "array([0, 0, 0, ..., 0, 0, 0])"
      ]
     },
     "execution_count": 36,
     "metadata": {},
     "output_type": "execute_result"
    }
   ],
   "source": [
    "vectors[0]"
   ]
  },
  {
   "cell_type": "markdown",
   "id": "578381b8",
   "metadata": {},
   "source": [
    "Most values in vectors[0] will be 0 because the Bag of Words representation creates a large sparse matrix where each column represents a unique word from the corpus. For any given movie, only a small subset of words from the total vocabulary will appear in its tags, leading to many zeros in its vector."
   ]
  },
  {
   "cell_type": "code",
   "execution_count": 37,
   "id": "c8e35c66",
   "metadata": {},
   "outputs": [
    {
     "data": {
      "text/plain": [
       "array(['000', '10', '100', ..., 'zone', 'zoo', 'zooeydeschanel'],\n",
       "      dtype=object)"
      ]
     },
     "execution_count": 37,
     "metadata": {},
     "output_type": "execute_result"
    }
   ],
   "source": [
    "cv.get_feature_names_out()"
   ]
  },
  {
   "cell_type": "markdown",
   "id": "130cbd8b",
   "metadata": {},
   "source": [
    "## Cosine Similarity\n",
    "\n",
    "Cosine Similarity is then applied to measure the similarity between two movies based on their vector representations. It calculates the cosine of the angle between two vectors in a high-dimensional space. A cosine similarity score close to 1 indicates that the movies are highly similar, while a score closer to 0 means they are less similar.\n",
    "\n",
    "Compute the cosine similarity matrix for the vectors\n",
    "This will return a square matrix where each element represents the similarity between two movies based on their vectorized 'tags'.\n",
    "\n",
    "The shape of the matrix will be (number_of_movies, number_of_movies)."
   ]
  },
  {
   "cell_type": "code",
   "execution_count": 38,
   "id": "47cef88d",
   "metadata": {},
   "outputs": [],
   "source": [
    "# Compute the cosine similarity matrix for the movie vectors\n",
    "similarity = cosine_similarity(vectors)"
   ]
  },
  {
   "cell_type": "code",
   "execution_count": 39,
   "id": "7ec182c4",
   "metadata": {},
   "outputs": [
    {
     "data": {
      "text/plain": [
       "(9130, 9130)"
      ]
     },
     "execution_count": 39,
     "metadata": {},
     "output_type": "execute_result"
    }
   ],
   "source": [
    "similarity.shape"
   ]
  },
  {
   "cell_type": "markdown",
   "id": "8a551617",
   "metadata": {},
   "source": [
    "### Main function - Bag of Words"
   ]
  },
  {
   "cell_type": "code",
   "execution_count": 40,
   "id": "4ae5a50e",
   "metadata": {},
   "outputs": [],
   "source": [
    "def recommend_bow(movie):\n",
    "    \n",
    "    # Get the index of the movie in the dataset based on its title\n",
    "    movie_index = new_df[new_df['title'] == movie].index[0]\n",
    "    \n",
    "    # Retrieve the similarity scores of the selected movie\n",
    "    distances = similarity[movie_index]\n",
    "    \n",
    "    # Sort the movies based on similarity score in descending order and get top 10 expect the first movie itself\n",
    "    movies_list = sorted(list(enumerate(distances)),reverse=True,key = lambda x: x[1])[1:11]\n",
    "    \n",
    "    # Print the titles of the top 10 most similar movies\n",
    "    return [new_df.iloc[i[0]].title for i in movies_list]"
   ]
  },
  {
   "cell_type": "code",
   "execution_count": 41,
   "id": "347f015c",
   "metadata": {
    "scrolled": true
   },
   "outputs": [
    {
     "data": {
      "text/plain": [
       "[\"Harry Potter and the Philosopher's Stone\",\n",
       " 'Harry Potter and the Goblet of Fire',\n",
       " 'Harry Potter and the Deathly Hallows: Part 2',\n",
       " 'Harry Potter and the Chamber of Secrets',\n",
       " 'Harry Potter and the Order of the Phoenix',\n",
       " 'Fantastic Beasts: The Crimes of Grindelwald',\n",
       " 'The Irregular at Magic High School: The Girl Who Summons the Stars',\n",
       " 'Harry Potter and the Half-Blood Prince',\n",
       " 'Upside-Down Magic',\n",
       " 'Fantastic Beasts and Where to Find Them']"
      ]
     },
     "execution_count": 41,
     "metadata": {},
     "output_type": "execute_result"
    }
   ],
   "source": [
    "recommend_bow('Harry Potter and the Prisoner of Azkaban')"
   ]
  },
  {
   "cell_type": "markdown",
   "id": "13f75f98",
   "metadata": {},
   "source": [
    "### TF-IDF"
   ]
  },
  {
   "cell_type": "code",
   "execution_count": 42,
   "id": "8a50c7bd",
   "metadata": {},
   "outputs": [
    {
     "name": "stdout",
     "output_type": "stream",
     "text": [
      "(9130, 6000)\n",
      "(9130, 9130)\n"
     ]
    }
   ],
   "source": [
    "# Initialize the TfidfVectorizer\n",
    "tfidf = TfidfVectorizer(max_features=6000, stop_words='english')\n",
    "\n",
    "# Fit and transform the 'tags' column using TF-IDF\n",
    "tfidf_vectors = tfidf.fit_transform(new_df['tags']).toarray()\n",
    "\n",
    "# Check the shape of the resulting TF-IDF matrix (number of rows and features)\n",
    "print(tfidf_vectors.shape)\n",
    "\n",
    "# Now you can perform your similarity calculations (e.g., cosine similarity)\n",
    "from sklearn.metrics.pairwise import cosine_similarity\n",
    "\n",
    "# Compute the cosine similarity between the movies\n",
    "similarity_tfidf = cosine_similarity(tfidf_vectors)\n",
    "\n",
    "# Display the similarity matrix shape\n",
    "print(similarity.shape)"
   ]
  },
  {
   "cell_type": "markdown",
   "id": "826f4707",
   "metadata": {},
   "source": [
    "### Main Function - TF-IDF"
   ]
  },
  {
   "cell_type": "code",
   "execution_count": 43,
   "id": "8c2b12aa",
   "metadata": {},
   "outputs": [],
   "source": [
    "def recommend_tfidf(movie):\n",
    "    \n",
    "    # Get the index of the movie in the dataset based on its title\n",
    "    movie_index = new_df[new_df['title'] == movie].index[0]\n",
    "    \n",
    "    # Retrieve the similarity scores of the selected movie\n",
    "    distances = similarity_tfidf[movie_index]\n",
    "    \n",
    "    # Sort the movies based on similarity score in descending order and get top 10 expect the first movie itself\n",
    "    movies_list = sorted(list(enumerate(distances)),reverse=True,key = lambda x: x[1])[1:11]\n",
    "    \n",
    "    # Print the titles of the top 10 most similar movies\n",
    "    return [new_df.iloc[i[0]].title for i in movies_list]"
   ]
  },
  {
   "cell_type": "code",
   "execution_count": 44,
   "id": "c1d4af87",
   "metadata": {
    "scrolled": true
   },
   "outputs": [
    {
     "data": {
      "text/plain": [
       "[\"Harry Potter and the Philosopher's Stone\",\n",
       " 'Harry Potter and the Goblet of Fire',\n",
       " 'Harry Potter and the Deathly Hallows: Part 2',\n",
       " 'Harry Potter and the Order of the Phoenix',\n",
       " 'Harry Potter and the Chamber of Secrets',\n",
       " 'Harry Potter and the Half-Blood Prince',\n",
       " 'Fantastic Beasts: The Crimes of Grindelwald',\n",
       " 'Fantastic Beasts and Where to Find Them',\n",
       " 'Fantastic Beasts: The Secrets of Dumbledore',\n",
       " 'Upside-Down Magic']"
      ]
     },
     "execution_count": 44,
     "metadata": {},
     "output_type": "execute_result"
    }
   ],
   "source": [
    "recommend_tfidf('Harry Potter and the Prisoner of Azkaban')"
   ]
  },
  {
   "cell_type": "markdown",
   "id": "0da78e27",
   "metadata": {},
   "source": [
    "## Comparision"
   ]
  },
  {
   "cell_type": "code",
   "execution_count": 45,
   "id": "69c299b7",
   "metadata": {
    "scrolled": true
   },
   "outputs": [
    {
     "data": {
      "text/plain": [
       "[\"Harry Potter and the Philosopher's Stone\",\n",
       " 'Harry Potter and the Prisoner of Azkaban',\n",
       " 'Harry Potter and the Deathly Hallows: Part 2',\n",
       " 'Harry Potter and the Order of the Phoenix',\n",
       " 'Harry Potter and the Half-Blood Prince',\n",
       " 'Harry Potter and the Chamber of Secrets',\n",
       " 'Fantastic Beasts: The Crimes of Grindelwald',\n",
       " 'Eragon',\n",
       " 'The NeverEnding Story',\n",
       " 'Fantastic Beasts: The Secrets of Dumbledore']"
      ]
     },
     "execution_count": 45,
     "metadata": {},
     "output_type": "execute_result"
    }
   ],
   "source": [
    "recommend_bow('Harry Potter and the Goblet of Fire')"
   ]
  },
  {
   "cell_type": "code",
   "execution_count": 46,
   "id": "8eb02117",
   "metadata": {
    "scrolled": true
   },
   "outputs": [
    {
     "data": {
      "text/plain": [
       "[\"Harry Potter and the Philosopher's Stone\",\n",
       " 'Harry Potter and the Prisoner of Azkaban',\n",
       " 'Harry Potter and the Order of the Phoenix',\n",
       " 'Harry Potter and the Deathly Hallows: Part 2',\n",
       " 'Harry Potter and the Half-Blood Prince',\n",
       " 'Harry Potter and the Chamber of Secrets',\n",
       " 'Fantastic Beasts: The Crimes of Grindelwald',\n",
       " 'Fantastic Beasts: The Secrets of Dumbledore',\n",
       " 'Harry Potter and the Deathly Hallows: Part 1',\n",
       " 'Black Clover: Sword of the Wizard King']"
      ]
     },
     "execution_count": 46,
     "metadata": {},
     "output_type": "execute_result"
    }
   ],
   "source": [
    "recommend_tfidf('Harry Potter and the Goblet of Fire')"
   ]
  },
  {
   "cell_type": "markdown",
   "id": "3c8f2648",
   "metadata": {},
   "source": [
    "### Calculating Precision"
   ]
  },
  {
   "cell_type": "code",
   "execution_count": 47,
   "id": "dcc43766",
   "metadata": {},
   "outputs": [],
   "source": [
    "def calculate_precision_at_k(system_recommendations, curated_recommendations, k=10):\n",
    "    # Count matches between system and curated lists\n",
    "    matches = sum(1 for movie in system_recommendations[:k] if movie in curated_recommendations)\n",
    "    \n",
    "    # Calculate precision\n",
    "    precision = matches / k\n",
    "    return precision"
   ]
  },
  {
   "cell_type": "code",
   "execution_count": 48,
   "id": "77fe5a7d",
   "metadata": {},
   "outputs": [
    {
     "name": "stdout",
     "output_type": "stream",
     "text": [
      "Precision@10 for Bag of Words: 80.00%\n",
      "Precision@10 for TF-IDF: 90.00%\n"
     ]
    }
   ],
   "source": [
    "curated_recommendations = [\n",
    "    \"Harry Potter and the Half-Blood Prince\",\n",
    "    \"Harry Potter and the Prisoner of Azkaban\",\n",
    "    \"Harry Potter and the Order of the Phoenix\",\n",
    "    \"Harry Potter and the Chamber of Secrets\",\n",
    "    \"Harry Potter and the Deathly Hallows: Part 1\",\n",
    "    \"Harry Potter and the Deathly Hallows: Part 2\",\n",
    "    \"Fantastic Beasts and Where to Find Them\",\n",
    "    \"Fantastic Beasts: The Crimes of Grindelwald\",\n",
    "    \"Harry Potter and the Philosopher's Stone\",\n",
    "    \"Fantastic Beasts: The Secrets of Dumbledore\"\n",
    "]\n",
    "\n",
    "# Bag of Words recommendations\n",
    "bow_recommendations = recommend_bow(\"Harry Potter and the Goblet of Fire\")\n",
    "\n",
    "# TF-IDF recommendations\n",
    "tfidf_recommendations = recommend_tfidf(\"Harry Potter and the Goblet of Fire\")\n",
    "\n",
    "# Calculate Precision@10 for Bag of Words\n",
    "precision_bow = calculate_precision_at_k(bow_recommendations, curated_recommendations)\n",
    "\n",
    "# Calculate Precision@10 for TF-IDF\n",
    "precision_tfidf = calculate_precision_at_k(tfidf_recommendations, curated_recommendations)\n",
    "\n",
    "# Print results\n",
    "print(f\"Precision@10 for Bag of Words: {precision_bow * 100:.2f}%\")\n",
    "print(f\"Precision@10 for TF-IDF: {precision_tfidf * 100:.2f}%\")"
   ]
  },
  {
   "cell_type": "markdown",
   "id": "89934e12",
   "metadata": {},
   "source": [
    "### Exporting Data Using Pickle"
   ]
  },
  {
   "cell_type": "code",
   "execution_count": 54,
   "id": "edbac622",
   "metadata": {},
   "outputs": [],
   "source": [
    "pickle.dump(new_df,open('movies.pkl','wb'))"
   ]
  },
  {
   "cell_type": "code",
   "execution_count": 49,
   "id": "8524115d",
   "metadata": {},
   "outputs": [],
   "source": [
    "pickle.dump(similarity_tfidf,open('similarity.pkl','wb'))"
   ]
  }
 ],
 "metadata": {
  "kernelspec": {
   "display_name": "Python 3 (ipykernel)",
   "language": "python",
   "name": "python3"
  },
  "language_info": {
   "codemirror_mode": {
    "name": "ipython",
    "version": 3
   },
   "file_extension": ".py",
   "mimetype": "text/x-python",
   "name": "python",
   "nbconvert_exporter": "python",
   "pygments_lexer": "ipython3",
   "version": "3.10.9"
  }
 },
 "nbformat": 4,
 "nbformat_minor": 5
}
